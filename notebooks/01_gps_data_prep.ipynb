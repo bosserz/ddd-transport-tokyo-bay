{
 "cells": [
  {
   "cell_type": "code",
   "execution_count": 1,
   "id": "cf50532c",
   "metadata": {},
   "outputs": [],
   "source": [
    "import pandas as pd\n",
    "import geopandas as gpd\n",
    "import os\n",
    "import numpy as np\n",
    "import glob"
   ]
  },
  {
   "cell_type": "code",
   "execution_count": 2,
   "id": "0a4ae554",
   "metadata": {},
   "outputs": [],
   "source": [
    "# Specifify Data Path\n",
    "data_dir = '../../ProjectA_TokyoBay/Data/2025 Studio Data from Yoshida/PeopleFlow'"
   ]
  },
  {
   "cell_type": "code",
   "execution_count": 9,
   "id": "cb634016",
   "metadata": {},
   "outputs": [],
   "source": [
    "# Function to Process Data\n",
    "\n",
    "def travel_type(x, y):\n",
    "\n",
    "    if x == 0.0: # origin in Toyosu\n",
    "        if y == 0.0:  # destination in Toyosu\n",
    "            return 'Trip within Toyosu'\n",
    "        else:\n",
    "            return 'Origin in Toyosu'\n",
    "    elif y == 0.0:\n",
    "        return 'Destination in Toyosu'\n",
    "    else:\n",
    "        return 'N/A'\n",
    "\n",
    "def prep_od_data(fname, gdf_toyosu):\n",
    "\n",
    "    df = pd.read_csv(fname, encoding=\"utf-8\")\n",
    "\n",
    "    # Drop tripid which has only one data point\n",
    "    df_cnt = df.groupby(\"tripid\")[\"tripid\"].count()\n",
    "\n",
    "    df = df[df[\"tripid\"].isin(df_cnt[df_cnt > 1].index)]\n",
    "\n",
    "    df[\"datetime\"] = pd.to_datetime(df[\"recordedat\"])\n",
    "\n",
    "    # get first and last points from each tripid\n",
    "    df.sort_values(by=[\"tripid\", \"recordedat\"], inplace=True)\n",
    "\n",
    "    df[\"asc_rnk\"] = df.groupby(\"tripid\")[\"recordedat\"].rank(ascending=True)\n",
    "    df[\"dsc_rnk\"] = df.groupby(\"tripid\")[\"recordedat\"].rank(ascending=False)\n",
    "\n",
    "    df_origin = df[df[\"asc_rnk\"] == 1]\n",
    "    df_destination = df[df[\"dsc_rnk\"] == 1]\n",
    "\n",
    "    df_origin.rename(columns={\"lon\": \"origin_lon\",\n",
    "                    \"lat\": \"origin_lat\",\n",
    "                    \"datetime\": \"start_datetime\"},\n",
    "                    inplace=True)\n",
    "\n",
    "    df_destination.rename(columns={\"lon\": \"destination_lon\",\n",
    "                    \"lat\": \"destination_lat\",\n",
    "                    \"datetime\": \"end_datetime\"},\n",
    "                    inplace=True)\n",
    "\n",
    "    gdf_origin = gpd.GeoDataFrame(df_origin, geometry=gpd.points_from_xy(df_origin[\"origin_lon\"], df_origin[\"origin_lat\"]), \n",
    "                              crs=\"EPSG:4326\").to_crs(\"EPSG:6677\")\n",
    "    gdf_destination = gpd.GeoDataFrame(df_destination, geometry=gpd.points_from_xy(df_destination[\"destination_lon\"], df_destination[\"destination_lat\"]), \n",
    "                                    crs=\"EPSG:4326\").to_crs(\"EPSG:6677\")\n",
    "    \n",
    "    gdf_origin_within = gpd.sjoin(gdf_origin, gdf_toyosu, how='left', predicate='within')\n",
    "    gdf_destination_within = gpd.sjoin(gdf_destination, gdf_toyosu, how='left', predicate='within')\n",
    "\n",
    "    gdf_origin_within.rename(columns={\"index_right\": \"Id\"}, inplace=True)\n",
    "    gdf_destination_within.rename(columns={\"index_right\": \"Id\"}, inplace=True)\n",
    "\n",
    "    gdf_results = gdf_origin_within[[\"tripid\", \"transportmode\", \"p_ageclass\", \"p_gender\", \"origin_lon\", \"origin_lat\", \"start_datetime\", \"Id\"]]\\\n",
    "                        .merge(gdf_destination_within[[\"tripid\", \"destination_lon\", \"destination_lat\", \"end_datetime\", \"Id\"]],\n",
    "                            on=\"tripid\")\n",
    "    \n",
    "    gdf_results[\"trip_type\"] = gdf_results.apply(lambda x: travel_type(x[\"Id_x\"], x[\"Id_y\"]), axis=1)\n",
    "    \n",
    "    return gdf_results"
   ]
  },
  {
   "cell_type": "code",
   "execution_count": 10,
   "id": "004a5aed",
   "metadata": {},
   "outputs": [
    {
     "name": "stdout",
     "output_type": "stream",
     "text": [
      "Found 7 files in ../../ProjectA_TokyoBay/Data/2025 Studio Data from Yoshida/PeopleFlow\n"
     ]
    }
   ],
   "source": [
    "# Get List of CSV files containing trip data\n",
    "file_list = glob.glob(os.path.join(data_dir, \"*.csv\"))\n",
    "\n",
    "print(f\"Found {len(file_list)} files in {data_dir}\")"
   ]
  },
  {
   "cell_type": "code",
   "execution_count": 11,
   "id": "c45865e1",
   "metadata": {},
   "outputs": [],
   "source": [
    "# Load Study Area Polygon Boundary\n",
    "gdf_toyosu = gpd.read_file(\"../../ProjectA_TokyoBay/Data/2025_Studio_ Project_Data/Boundary/Toyosu_Ariake_Shinonome/StudySite_EPSG6677.shp\")"
   ]
  },
  {
   "cell_type": "code",
   "execution_count": 13,
   "id": "a233d234",
   "metadata": {},
   "outputs": [
    {
     "name": "stdout",
     "output_type": "stream",
     "text": [
      "2023-05-25_Toyosu.csv\n"
     ]
    },
    {
     "name": "stderr",
     "output_type": "stream",
     "text": [
      "/var/folders/j6/sbqqj8q50l13h4xp4_6db0v80000gn/T/ipykernel_78139/2593749786.py:35: SettingWithCopyWarning: \n",
      "A value is trying to be set on a copy of a slice from a DataFrame\n",
      "\n",
      "See the caveats in the documentation: https://pandas.pydata.org/pandas-docs/stable/user_guide/indexing.html#returning-a-view-versus-a-copy\n",
      "  df_origin.rename(columns={\"lon\": \"origin_lon\",\n",
      "/var/folders/j6/sbqqj8q50l13h4xp4_6db0v80000gn/T/ipykernel_78139/2593749786.py:40: SettingWithCopyWarning: \n",
      "A value is trying to be set on a copy of a slice from a DataFrame\n",
      "\n",
      "See the caveats in the documentation: https://pandas.pydata.org/pandas-docs/stable/user_guide/indexing.html#returning-a-view-versus-a-copy\n",
      "  df_destination.rename(columns={\"lon\": \"destination_lon\",\n"
     ]
    },
    {
     "name": "stdout",
     "output_type": "stream",
     "text": [
      "2023-05-22_Toyosu.csv\n"
     ]
    },
    {
     "name": "stderr",
     "output_type": "stream",
     "text": [
      "/var/folders/j6/sbqqj8q50l13h4xp4_6db0v80000gn/T/ipykernel_78139/2593749786.py:35: SettingWithCopyWarning: \n",
      "A value is trying to be set on a copy of a slice from a DataFrame\n",
      "\n",
      "See the caveats in the documentation: https://pandas.pydata.org/pandas-docs/stable/user_guide/indexing.html#returning-a-view-versus-a-copy\n",
      "  df_origin.rename(columns={\"lon\": \"origin_lon\",\n",
      "/var/folders/j6/sbqqj8q50l13h4xp4_6db0v80000gn/T/ipykernel_78139/2593749786.py:40: SettingWithCopyWarning: \n",
      "A value is trying to be set on a copy of a slice from a DataFrame\n",
      "\n",
      "See the caveats in the documentation: https://pandas.pydata.org/pandas-docs/stable/user_guide/indexing.html#returning-a-view-versus-a-copy\n",
      "  df_destination.rename(columns={\"lon\": \"destination_lon\",\n"
     ]
    },
    {
     "name": "stdout",
     "output_type": "stream",
     "text": [
      "2023-05-27_Toyosu.csv\n"
     ]
    },
    {
     "name": "stderr",
     "output_type": "stream",
     "text": [
      "/var/folders/j6/sbqqj8q50l13h4xp4_6db0v80000gn/T/ipykernel_78139/2593749786.py:35: SettingWithCopyWarning: \n",
      "A value is trying to be set on a copy of a slice from a DataFrame\n",
      "\n",
      "See the caveats in the documentation: https://pandas.pydata.org/pandas-docs/stable/user_guide/indexing.html#returning-a-view-versus-a-copy\n",
      "  df_origin.rename(columns={\"lon\": \"origin_lon\",\n",
      "/var/folders/j6/sbqqj8q50l13h4xp4_6db0v80000gn/T/ipykernel_78139/2593749786.py:40: SettingWithCopyWarning: \n",
      "A value is trying to be set on a copy of a slice from a DataFrame\n",
      "\n",
      "See the caveats in the documentation: https://pandas.pydata.org/pandas-docs/stable/user_guide/indexing.html#returning-a-view-versus-a-copy\n",
      "  df_destination.rename(columns={\"lon\": \"destination_lon\",\n"
     ]
    },
    {
     "name": "stdout",
     "output_type": "stream",
     "text": [
      "2023-05-24_Toyosu.csv\n"
     ]
    },
    {
     "name": "stderr",
     "output_type": "stream",
     "text": [
      "/var/folders/j6/sbqqj8q50l13h4xp4_6db0v80000gn/T/ipykernel_78139/2593749786.py:35: SettingWithCopyWarning: \n",
      "A value is trying to be set on a copy of a slice from a DataFrame\n",
      "\n",
      "See the caveats in the documentation: https://pandas.pydata.org/pandas-docs/stable/user_guide/indexing.html#returning-a-view-versus-a-copy\n",
      "  df_origin.rename(columns={\"lon\": \"origin_lon\",\n",
      "/var/folders/j6/sbqqj8q50l13h4xp4_6db0v80000gn/T/ipykernel_78139/2593749786.py:40: SettingWithCopyWarning: \n",
      "A value is trying to be set on a copy of a slice from a DataFrame\n",
      "\n",
      "See the caveats in the documentation: https://pandas.pydata.org/pandas-docs/stable/user_guide/indexing.html#returning-a-view-versus-a-copy\n",
      "  df_destination.rename(columns={\"lon\": \"destination_lon\",\n"
     ]
    },
    {
     "name": "stdout",
     "output_type": "stream",
     "text": [
      "2023-05-21_Toyosu.csv\n"
     ]
    },
    {
     "name": "stderr",
     "output_type": "stream",
     "text": [
      "/var/folders/j6/sbqqj8q50l13h4xp4_6db0v80000gn/T/ipykernel_78139/2593749786.py:35: SettingWithCopyWarning: \n",
      "A value is trying to be set on a copy of a slice from a DataFrame\n",
      "\n",
      "See the caveats in the documentation: https://pandas.pydata.org/pandas-docs/stable/user_guide/indexing.html#returning-a-view-versus-a-copy\n",
      "  df_origin.rename(columns={\"lon\": \"origin_lon\",\n",
      "/var/folders/j6/sbqqj8q50l13h4xp4_6db0v80000gn/T/ipykernel_78139/2593749786.py:40: SettingWithCopyWarning: \n",
      "A value is trying to be set on a copy of a slice from a DataFrame\n",
      "\n",
      "See the caveats in the documentation: https://pandas.pydata.org/pandas-docs/stable/user_guide/indexing.html#returning-a-view-versus-a-copy\n",
      "  df_destination.rename(columns={\"lon\": \"destination_lon\",\n"
     ]
    },
    {
     "name": "stdout",
     "output_type": "stream",
     "text": [
      "2023-05-26_Toyosu.csv\n"
     ]
    },
    {
     "name": "stderr",
     "output_type": "stream",
     "text": [
      "/var/folders/j6/sbqqj8q50l13h4xp4_6db0v80000gn/T/ipykernel_78139/2593749786.py:35: SettingWithCopyWarning: \n",
      "A value is trying to be set on a copy of a slice from a DataFrame\n",
      "\n",
      "See the caveats in the documentation: https://pandas.pydata.org/pandas-docs/stable/user_guide/indexing.html#returning-a-view-versus-a-copy\n",
      "  df_origin.rename(columns={\"lon\": \"origin_lon\",\n",
      "/var/folders/j6/sbqqj8q50l13h4xp4_6db0v80000gn/T/ipykernel_78139/2593749786.py:40: SettingWithCopyWarning: \n",
      "A value is trying to be set on a copy of a slice from a DataFrame\n",
      "\n",
      "See the caveats in the documentation: https://pandas.pydata.org/pandas-docs/stable/user_guide/indexing.html#returning-a-view-versus-a-copy\n",
      "  df_destination.rename(columns={\"lon\": \"destination_lon\",\n"
     ]
    },
    {
     "name": "stdout",
     "output_type": "stream",
     "text": [
      "2023-05-23_Toyosu.csv\n"
     ]
    },
    {
     "name": "stderr",
     "output_type": "stream",
     "text": [
      "/var/folders/j6/sbqqj8q50l13h4xp4_6db0v80000gn/T/ipykernel_78139/2593749786.py:35: SettingWithCopyWarning: \n",
      "A value is trying to be set on a copy of a slice from a DataFrame\n",
      "\n",
      "See the caveats in the documentation: https://pandas.pydata.org/pandas-docs/stable/user_guide/indexing.html#returning-a-view-versus-a-copy\n",
      "  df_origin.rename(columns={\"lon\": \"origin_lon\",\n",
      "/var/folders/j6/sbqqj8q50l13h4xp4_6db0v80000gn/T/ipykernel_78139/2593749786.py:40: SettingWithCopyWarning: \n",
      "A value is trying to be set on a copy of a slice from a DataFrame\n",
      "\n",
      "See the caveats in the documentation: https://pandas.pydata.org/pandas-docs/stable/user_guide/indexing.html#returning-a-view-versus-a-copy\n",
      "  df_destination.rename(columns={\"lon\": \"destination_lon\",\n"
     ]
    }
   ],
   "source": [
    "# Process each file\n",
    "for fname in file_list:\n",
    "\n",
    "    out_fname = fname[-21:]\n",
    "\n",
    "    print(out_fname)\n",
    "\n",
    "    df_results = prep_od_data(fname, gdf_toyosu)\n",
    "\n",
    "    # Save results to CSV\n",
    "    df_results.to_csv(f\"../output/OD_Data_Prep/{out_fname}\", \n",
    "                      encoding=\"utf-8\", index=False)"
   ]
  },
  {
   "cell_type": "code",
   "execution_count": null,
   "id": "b256cc7f",
   "metadata": {},
   "outputs": [],
   "source": []
  }
 ],
 "metadata": {
  "kernelspec": {
   "display_name": "analytics",
   "language": "python",
   "name": "python3"
  },
  "language_info": {
   "codemirror_mode": {
    "name": "ipython",
    "version": 3
   },
   "file_extension": ".py",
   "mimetype": "text/x-python",
   "name": "python",
   "nbconvert_exporter": "python",
   "pygments_lexer": "ipython3",
   "version": "3.11.0"
  }
 },
 "nbformat": 4,
 "nbformat_minor": 5
}
